{
  "nbformat": 4,
  "nbformat_minor": 0,
  "metadata": {
    "colab": {
      "name": "mlproject.ipynb",
      "version": "0.3.2",
      "provenance": [],
      "collapsed_sections": [],
      "include_colab_link": true
    },
    "kernelspec": {
      "name": "python3",
      "display_name": "Python 3"
    },
    "accelerator": "GPU"
  },
  "cells": [
    {
      "cell_type": "markdown",
      "metadata": {
        "id": "view-in-github",
        "colab_type": "text"
      },
      "source": [
        "<a href=\"https://colab.research.google.com/github/sksingh55/Acats/blob/master/mlproject.ipynb\" target=\"_parent\"><img src=\"https://colab.research.google.com/assets/colab-badge.svg\" alt=\"Open In Colab\"/></a>"
      ]
    },
    {
      "metadata": {
        "id": "VphgvDxaCovo",
        "colab_type": "code",
        "colab": {
          "base_uri": "https://localhost:8080/",
          "height": 204
        },
        "outputId": "ee01b3c7-248b-4db9-f4ce-265298d19431"
      },
      "cell_type": "code",
      "source": [
        "!pip install numpy pandas sklearn tensorboardX"
      ],
      "execution_count": 16,
      "outputs": [
        {
          "output_type": "stream",
          "text": [
            "Requirement already satisfied: numpy in /usr/local/lib/python3.6/dist-packages (1.16.2)\n",
            "Requirement already satisfied: pandas in /usr/local/lib/python3.6/dist-packages (0.23.4)\n",
            "Requirement already satisfied: sklearn in /usr/local/lib/python3.6/dist-packages (0.0)\n",
            "Requirement already satisfied: tensorboardX in /usr/local/lib/python3.6/dist-packages (1.6)\n",
            "Requirement already satisfied: python-dateutil>=2.5.0 in /usr/local/lib/python3.6/dist-packages (from pandas) (2.5.3)\n",
            "Requirement already satisfied: pytz>=2011k in /usr/local/lib/python3.6/dist-packages (from pandas) (2018.9)\n",
            "Requirement already satisfied: scikit-learn in /usr/local/lib/python3.6/dist-packages (from sklearn) (0.20.3)\n",
            "Requirement already satisfied: six in /usr/local/lib/python3.6/dist-packages (from tensorboardX) (1.11.0)\n",
            "Requirement already satisfied: protobuf>=3.2.0 in /usr/local/lib/python3.6/dist-packages (from tensorboardX) (3.7.1)\n",
            "Requirement already satisfied: scipy>=0.13.3 in /usr/local/lib/python3.6/dist-packages (from scikit-learn->sklearn) (1.2.1)\n",
            "Requirement already satisfied: setuptools in /usr/local/lib/python3.6/dist-packages (from protobuf>=3.2.0->tensorboardX) (40.9.0)\n"
          ],
          "name": "stdout"
        }
      ]
    },
    {
      "metadata": {
        "id": "m1dXluljCuvY",
        "colab_type": "code",
        "colab": {
          "base_uri": "https://localhost:8080/",
          "height": 136
        },
        "outputId": "2744c0a1-ec3b-4c24-b840-d53ff7e1bca7"
      },
      "cell_type": "code",
      "source": [
        "!git clone  https://github.com/ahmedbesbes/character-based-cnn.git\n",
        "  "
      ],
      "execution_count": 2,
      "outputs": [
        {
          "output_type": "stream",
          "text": [
            "Cloning into 'character-based-cnn'...\n",
            "remote: Enumerating objects: 84, done.\u001b[K\n",
            "remote: Counting objects:   1% (1/84)   \u001b[K\rremote: Counting objects:   2% (2/84)   \u001b[K\rremote: Counting objects:   3% (3/84)   \u001b[K\rremote: Counting objects:   4% (4/84)   \u001b[K\rremote: Counting objects:   5% (5/84)   \u001b[K\rremote: Counting objects:   7% (6/84)   \u001b[K\rremote: Counting objects:   8% (7/84)   \u001b[K\rremote: Counting objects:   9% (8/84)   \u001b[K\rremote: Counting objects:  10% (9/84)   \u001b[K\rremote: Counting objects:  11% (10/84)   \u001b[K\rremote: Counting objects:  13% (11/84)   \u001b[K\rremote: Counting objects:  14% (12/84)   \u001b[K\rremote: Counting objects:  15% (13/84)   \u001b[K\rremote: Counting objects:  16% (14/84)   \u001b[K\rremote: Counting objects:  17% (15/84)   \u001b[K\rremote: Counting objects:  19% (16/84)   \u001b[K\rremote: Counting objects:  20% (17/84)   \u001b[K\rremote: Counting objects:  21% (18/84)   \u001b[K\rremote: Counting objects:  22% (19/84)   \u001b[K\rremote: Counting objects:  23% (20/84)   \u001b[K\rremote: Counting objects:  25% (21/84)   \u001b[K\rremote: Counting objects:  26% (22/84)   \u001b[K\rremote: Counting objects:  27% (23/84)   \u001b[K\rremote: Counting objects:  28% (24/84)   \u001b[K\rremote: Counting objects:  29% (25/84)   \u001b[K\rremote: Counting objects:  30% (26/84)   \u001b[K\rremote: Counting objects:  32% (27/84)   \u001b[K\rremote: Counting objects:  33% (28/84)   \u001b[K\rremote: Counting objects:  34% (29/84)   \u001b[K\rremote: Counting objects:  35% (30/84)   \u001b[K\rremote: Counting objects:  36% (31/84)   \u001b[K\rremote: Counting objects:  38% (32/84)   \u001b[K\rremote: Counting objects:  39% (33/84)   \u001b[K\rremote: Counting objects:  40% (34/84)   \u001b[K\rremote: Counting objects:  41% (35/84)   \u001b[K\rremote: Counting objects:  42% (36/84)   \u001b[K\rremote: Counting objects:  44% (37/84)   \u001b[K\rremote: Counting objects:  45% (38/84)   \u001b[K\rremote: Counting objects:  46% (39/84)   \u001b[K\rremote: Counting objects:  47% (40/84)   \u001b[K\rremote: Counting objects:  48% (41/84)   \u001b[K\rremote: Counting objects:  50% (42/84)   \u001b[K\rremote: Counting objects:  51% (43/84)   \u001b[K\rremote: Counting objects:  52% (44/84)   \u001b[K\rremote: Counting objects:  53% (45/84)   \u001b[K\rremote: Counting objects:  54% (46/84)   \u001b[K\rremote: Counting objects:  55% (47/84)   \u001b[K\rremote: Counting objects:  57% (48/84)   \u001b[K\rremote: Counting objects:  58% (49/84)   \u001b[K\rremote: Counting objects:  59% (50/84)   \u001b[K\rremote: Counting objects:  60% (51/84)   \u001b[K\rremote: Counting objects:  61% (52/84)   \u001b[K\rremote: Counting objects:  63% (53/84)   \u001b[K\rremote: Counting objects:  64% (54/84)   \u001b[K\rremote: Counting objects:  65% (55/84)   \u001b[K\rremote: Counting objects:  66% (56/84)   \u001b[K\rremote: Counting objects:  67% (57/84)   \u001b[K\rremote: Counting objects:  69% (58/84)   \u001b[K\rremote: Counting objects:  70% (59/84)   \u001b[K\rremote: Counting objects:  71% (60/84)   \u001b[K\rremote: Counting objects:  72% (61/84)   \u001b[K\rremote: Counting objects:  73% (62/84)   \u001b[K\rremote: Counting objects:  75% (63/84)   \u001b[K\rremote: Counting objects:  76% (64/84)   \u001b[K\rremote: Counting objects:  77% (65/84)   \u001b[K\rremote: Counting objects:  78% (66/84)   \u001b[K\rremote: Counting objects:  79% (67/84)   \u001b[K\rremote: Counting objects:  80% (68/84)   \u001b[K\rremote: Counting objects:  82% (69/84)   \u001b[K\rremote: Counting objects:  83% (70/84)   \u001b[K\rremote: Counting objects:  84% (71/84)   \u001b[K\rremote: Counting objects:  85% (72/84)   \u001b[K\rremote: Counting objects:  86% (73/84)   \u001b[K\rremote: Counting objects:  88% (74/84)   \u001b[K\rremote: Counting objects:  89% (75/84)   \u001b[K\rremote: Counting objects:  90% (76/84)   \u001b[K\rremote: Counting objects:  91% (77/84)   \u001b[K\rremote: Counting objects:  92% (78/84)   \u001b[K\rremote: Counting objects:  94% (79/84)   \u001b[K\rremote: Counting objects:  95% (80/84)   \u001b[K\rremote: Counting objects:  96% (81/84)   \u001b[K\rremote: Counting objects:  97% (82/84)   \u001b[K\rremote: Counting objects:  98% (83/84)   \u001b[K\rremote: Counting objects: 100% (84/84)   \u001b[K\rremote: Counting objects: 100% (84/84), done.\u001b[K\n",
            "remote: Compressing objects: 100% (84/84), done.\u001b[K\n",
            "remote: Total 360 (delta 54), reused 0 (delta 0), pack-reused 276\u001b[K\n",
            "Receiving objects: 100% (360/360), 270.86 KiB | 761.00 KiB/s, done.\n",
            "Resolving deltas: 100% (212/212), done.\n"
          ],
          "name": "stdout"
        }
      ]
    },
    {
      "metadata": {
        "id": "8_fYjCVyDCAI",
        "colab_type": "code",
        "colab": {
          "base_uri": "https://localhost:8080/",
          "height": 6239
        },
        "outputId": "e7572c35-4205-4b90-b3a2-0f88b28383a5"
      },
      "cell_type": "code",
      "source": [
        "!python train.py --data_path=train.csv --max_rows=99900 \n"
      ],
      "execution_count": 19,
      "outputs": [
        {
          "output_type": "stream",
          "text": [
            "2it [00:01,  1.57it/s]\n",
            "data loaded successfully with 99900 rows\n",
            "dimension : 512\n",
            "  0% 0/625 [00:00<?, ?it/s][Training - Epoch: 1] , Iteration: 1/625 , Loss: 0.8562029600143433, Accuracy: 0.546875\n",
            "  4% 25/625 [00:01<00:33, 17.68it/s][Training - Epoch: 1] , Iteration: 26/625 , Loss: 0.7559273953621204, Accuracy: 0.5246394230769231\n",
            "  8% 49/625 [00:02<00:31, 18.34it/s][Training - Epoch: 1] , Iteration: 51/625 , Loss: 0.7281405785504509, Accuracy: 0.5352328431372549\n",
            " 12% 75/625 [00:04<00:29, 18.48it/s][Training - Epoch: 1] , Iteration: 76/625 , Loss: 0.7177177228425679, Accuracy: 0.5335115131578947\n",
            " 16% 99/625 [00:05<00:28, 18.63it/s][Training - Epoch: 1] , Iteration: 101/625 , Loss: 0.7097021524268802, Accuracy: 0.5423112623762376\n",
            " 20% 125/625 [00:06<00:26, 18.97it/s][Training - Epoch: 1] , Iteration: 126/625 , Loss: 0.7056122105272989, Accuracy: 0.5452008928571429\n",
            " 24% 150/625 [00:08<00:25, 18.58it/s][Training - Epoch: 1] , Iteration: 151/625 , Loss: 0.7028599559076575, Accuracy: 0.5465128311258278\n",
            " 28% 174/625 [00:09<00:24, 18.69it/s][Training - Epoch: 1] , Iteration: 176/625 , Loss: 0.7020120552994988, Accuracy: 0.5436345880681818\n",
            " 32% 199/625 [00:10<00:22, 19.07it/s][Training - Epoch: 1] , Iteration: 201/625 , Loss: 0.7004897926577288, Accuracy: 0.5437266791044776\n",
            " 36% 224/625 [00:12<00:20, 19.41it/s][Training - Epoch: 1] , Iteration: 226/625 , Loss: 0.6992700893794541, Accuracy: 0.545008296460177\n",
            " 40% 249/625 [00:13<00:19, 18.86it/s][Training - Epoch: 1] , Iteration: 251/625 , Loss: 0.6980263792661082, Accuracy: 0.5456922310756972\n",
            " 44% 274/625 [00:14<00:18, 19.19it/s][Training - Epoch: 1] , Iteration: 276/625 , Loss: 0.6972331661677015, Accuracy: 0.5465353260869565\n",
            " 48% 299/625 [00:16<00:16, 19.26it/s][Training - Epoch: 1] , Iteration: 301/625 , Loss: 0.6968123047454808, Accuracy: 0.5461223006644518\n",
            " 52% 325/625 [00:17<00:15, 19.46it/s][Training - Epoch: 1] , Iteration: 326/625 , Loss: 0.6964891847291607, Accuracy: 0.5460841641104295\n",
            " 56% 350/625 [00:18<00:14, 19.04it/s][Training - Epoch: 1] , Iteration: 351/625 , Loss: 0.6960574031895043, Accuracy: 0.5464075854700855\n",
            " 60% 374/625 [00:19<00:12, 19.51it/s][Training - Epoch: 1] , Iteration: 376/625 , Loss: 0.6955323601339726, Accuracy: 0.5477684507978723\n",
            " 64% 400/625 [00:21<00:11, 19.43it/s][Training - Epoch: 1] , Iteration: 401/625 , Loss: 0.6950325579417317, Accuracy: 0.5486479114713217\n",
            " 68% 425/625 [00:22<00:11, 18.14it/s][Training - Epoch: 1] , Iteration: 426/625 , Loss: 0.694719092247072, Accuracy: 0.5491857394366197\n",
            " 72% 449/625 [00:23<00:09, 18.95it/s][Training - Epoch: 1] , Iteration: 451/625 , Loss: 0.6941779614023518, Accuracy: 0.5502355875831486\n",
            " 76% 475/625 [00:25<00:07, 18.96it/s][Training - Epoch: 1] , Iteration: 476/625 , Loss: 0.693859662078008, Accuracy: 0.55078125\n",
            " 80% 500/625 [00:26<00:06, 19.36it/s][Training - Epoch: 1] , Iteration: 501/625 , Loss: 0.6934408877424137, Accuracy: 0.5515999251497006\n",
            " 84% 525/625 [00:27<00:05, 18.44it/s][Training - Epoch: 1] , Iteration: 526/625 , Loss: 0.6931224935634961, Accuracy: 0.5521625475285171\n",
            " 88% 549/625 [00:29<00:04, 18.79it/s][Training - Epoch: 1] , Iteration: 551/625 , Loss: 0.6928552901896288, Accuracy: 0.5525323275862069\n",
            " 92% 575/625 [00:30<00:02, 18.66it/s][Training - Epoch: 1] , Iteration: 576/625 , Loss: 0.6925040003326204, Accuracy: 0.5534803602430556\n",
            " 96% 599/625 [00:31<00:01, 19.01it/s][Training - Epoch: 1] , Iteration: 601/625 , Loss: 0.6922526038228572, Accuracy: 0.5538035565723793\n",
            "100% 625/625 [00:33<00:00, 18.90it/s]\n",
            "  0% 0/157 [00:00<?, ?it/s][Validation - Epoch: 1] , Iteration: 1/157 , Loss: 0.6829282641410828, Accuracy: 0.5859375\n",
            " 16% 25/157 [00:01<00:06, 20.85it/s][Validation - Epoch: 1] , Iteration: 26/157 , Loss: 0.6858810209310972, Accuracy: 0.5625\n",
            " 31% 49/157 [00:02<00:04, 22.41it/s][Validation - Epoch: 1] , Iteration: 51/157 , Loss: 0.6839961479691898, Accuracy: 0.5675551470588235\n",
            " 46% 73/157 [00:03<00:03, 21.71it/s][Validation - Epoch: 1] , Iteration: 76/157 , Loss: 0.6839537698971597, Accuracy: 0.5681537828947368\n",
            " 64% 100/157 [00:04<00:02, 21.86it/s][Validation - Epoch: 1] , Iteration: 101/157 , Loss: 0.6867617020512572, Accuracy: 0.5608756188118812\n",
            " 79% 124/157 [00:05<00:01, 21.76it/s][Validation - Epoch: 1] , Iteration: 126/157 , Loss: 0.6865503773802802, Accuracy: 0.5613839285714286\n",
            " 94% 148/157 [00:06<00:00, 21.55it/s][Validation - Epoch: 1] , Iteration: 151/157 , Loss: 0.686023938340067, Accuracy: 0.5627069536423841\n",
            "100% 157/157 [00:07<00:00, 21.49it/s]\n",
            "[Epoch: 1 / 10]\ttrain_loss: 0.6922 \ttrain_acc: 0.5537 \tval_loss: 0.6857 \tval_acc: 0.5636\n",
            "==================================================\n",
            "  0% 0/625 [00:00<?, ?it/s][Training - Epoch: 2] , Iteration: 1/625 , Loss: 0.7041447162628174, Accuracy: 0.484375\n",
            "  4% 25/625 [00:01<00:33, 17.80it/s][Training - Epoch: 2] , Iteration: 26/625 , Loss: 0.6847935846218696, Accuracy: 0.5661057692307693\n",
            "  8% 49/625 [00:02<00:31, 18.57it/s][Training - Epoch: 2] , Iteration: 51/625 , Loss: 0.6852468111935783, Accuracy: 0.5608149509803921\n",
            " 12% 75/625 [00:04<00:29, 18.95it/s][Training - Epoch: 2] , Iteration: 76/625 , Loss: 0.6839925984018728, Accuracy: 0.5653782894736842\n",
            " 16% 99/625 [00:05<00:28, 18.75it/s][Training - Epoch: 2] , Iteration: 101/625 , Loss: 0.6849639563277217, Accuracy: 0.5618811881188119\n",
            " 20% 125/625 [00:06<00:27, 18.00it/s][Training - Epoch: 2] , Iteration: 126/625 , Loss: 0.6854760121731531, Accuracy: 0.5618799603174603\n",
            " 24% 149/625 [00:08<00:25, 18.46it/s][Training - Epoch: 2] , Iteration: 151/625 , Loss: 0.685547191575663, Accuracy: 0.5609995860927153\n",
            " 28% 174/625 [00:09<00:23, 19.18it/s][Training - Epoch: 2] , Iteration: 176/625 , Loss: 0.6859872093932196, Accuracy: 0.5597478693181818\n",
            " 32% 200/625 [00:10<00:22, 18.68it/s][Training - Epoch: 2] , Iteration: 201/625 , Loss: 0.685269742166225, Accuracy: 0.5624222636815921\n",
            " 36% 224/625 [00:12<00:21, 18.28it/s][Training - Epoch: 2] , Iteration: 226/625 , Loss: 0.6852843600564298, Accuracy: 0.5620160398230089\n",
            " 40% 250/625 [00:13<00:19, 19.16it/s][Training - Epoch: 2] , Iteration: 251/625 , Loss: 0.6847525117881744, Accuracy: 0.5628735059760956\n",
            " 44% 275/625 [00:14<00:18, 18.89it/s][Training - Epoch: 2] , Iteration: 276/625 , Loss: 0.6849646937587986, Accuracy: 0.5623584692028986\n",
            " 48% 300/625 [00:16<00:17, 18.61it/s][Training - Epoch: 2] , Iteration: 301/625 , Loss: 0.6846959078034689, Accuracy: 0.5633046096345515\n",
            " 52% 325/625 [00:17<00:16, 18.60it/s][Training - Epoch: 2] , Iteration: 326/625 , Loss: 0.6846231787116981, Accuracy: 0.5628834355828221\n",
            " 56% 349/625 [00:18<00:14, 18.87it/s][Training - Epoch: 2] , Iteration: 351/625 , Loss: 0.6843939173934807, Accuracy: 0.5625890313390314\n",
            " 60% 373/625 [00:20<00:12, 19.49it/s][Training - Epoch: 2] , Iteration: 376/625 , Loss: 0.6843244300243703, Accuracy: 0.5631441156914894\n",
            " 64% 400/625 [00:21<00:11, 19.01it/s][Training - Epoch: 2] , Iteration: 401/625 , Loss: 0.6836871457218826, Accuracy: 0.5647015274314214\n",
            " 68% 425/625 [00:22<00:10, 19.45it/s][Training - Epoch: 2] , Iteration: 426/625 , Loss: 0.6833327770792822, Accuracy: 0.5653975938967136\n",
            " 72% 450/625 [00:24<00:08, 19.61it/s][Training - Epoch: 2] , Iteration: 451/625 , Loss: 0.6834244365967034, Accuracy: 0.5649944567627494\n",
            " 76% 474/625 [00:25<00:07, 19.25it/s][Training - Epoch: 2] , Iteration: 476/625 , Loss: 0.6831157672054627, Accuracy: 0.5655035451680672\n",
            " 80% 500/625 [00:26<00:06, 18.80it/s][Training - Epoch: 2] , Iteration: 501/625 , Loss: 0.6824632793843389, Accuracy: 0.5665076097804391\n",
            " 84% 525/625 [00:27<00:05, 18.94it/s][Training - Epoch: 2] , Iteration: 526/625 , Loss: 0.6820934568974455, Accuracy: 0.5669557984790875\n",
            " 88% 549/625 [00:29<00:03, 19.18it/s][Training - Epoch: 2] , Iteration: 551/625 , Loss: 0.6823788931062563, Accuracy: 0.565817831215971\n",
            " 92% 575/625 [00:30<00:02, 19.21it/s][Training - Epoch: 2] , Iteration: 576/625 , Loss: 0.6823498247605231, Accuracy: 0.5660536024305556\n",
            " 96% 600/625 [00:31<00:01, 19.44it/s][Training - Epoch: 2] , Iteration: 601/625 , Loss: 0.6817723366861137, Accuracy: 0.5670107113144759\n",
            "100% 625/625 [00:33<00:00, 18.86it/s]\n",
            "  0% 0/157 [00:00<?, ?it/s][Validation - Epoch: 2] , Iteration: 1/157 , Loss: 0.6688647866249084, Accuracy: 0.578125\n",
            " 16% 25/157 [00:01<00:06, 21.96it/s][Validation - Epoch: 2] , Iteration: 26/157 , Loss: 0.6657307835725638, Accuracy: 0.6045673076923077\n",
            " 31% 49/157 [00:02<00:04, 22.63it/s][Validation - Epoch: 2] , Iteration: 51/157 , Loss: 0.6659587013955209, Accuracy: 0.6009497549019608\n",
            " 46% 73/157 [00:03<00:03, 23.03it/s][Validation - Epoch: 2] , Iteration: 76/157 , Loss: 0.6675751326899779, Accuracy: 0.5958059210526315\n",
            " 64% 100/157 [00:04<00:02, 23.22it/s][Validation - Epoch: 2] , Iteration: 101/157 , Loss: 0.6672621729350326, Accuracy: 0.5961478960396039\n",
            " 79% 124/157 [00:05<00:01, 23.18it/s][Validation - Epoch: 2] , Iteration: 126/157 , Loss: 0.6667322407639216, Accuracy: 0.5961061507936508\n",
            " 94% 148/157 [00:06<00:00, 23.57it/s][Validation - Epoch: 2] , Iteration: 151/157 , Loss: 0.6678055078778046, Accuracy: 0.5950434602649006\n",
            "100% 157/157 [00:06<00:00, 22.62it/s]\n",
            "[Epoch: 2 / 10]\ttrain_loss: 0.6812 \ttrain_acc: 0.5681 \tval_loss: 0.6672 \tval_acc: 0.5956\n",
            "==================================================\n",
            "  0% 0/625 [00:00<?, ?it/s][Training - Epoch: 3] , Iteration: 1/625 , Loss: 0.6728035807609558, Accuracy: 0.6171875\n",
            "  4% 24/625 [00:01<00:33, 18.19it/s][Training - Epoch: 3] , Iteration: 26/625 , Loss: 0.6680965354809394, Accuracy: 0.5967548076923077\n",
            "  8% 50/625 [00:02<00:31, 18.02it/s][Training - Epoch: 3] , Iteration: 51/625 , Loss: 0.6637401066574395, Accuracy: 0.5991115196078431\n",
            " 12% 74/625 [00:04<00:29, 18.81it/s][Training - Epoch: 3] , Iteration: 76/625 , Loss: 0.660739037551378, Accuracy: 0.6043379934210527\n",
            " 16% 100/625 [00:05<00:27, 18.84it/s][Training - Epoch: 3] , Iteration: 101/625 , Loss: 0.6613758448326942, Accuracy: 0.6017172029702971\n",
            " 20% 124/625 [00:06<00:26, 18.85it/s][Training - Epoch: 3] , Iteration: 126/625 , Loss: 0.6586349299029698, Accuracy: 0.6057167658730159\n",
            " 24% 149/625 [00:08<00:26, 18.21it/s][Training - Epoch: 3] , Iteration: 151/625 , Loss: 0.6605295744163311, Accuracy: 0.6029076986754967\n",
            " 28% 175/625 [00:09<00:23, 18.77it/s][Training - Epoch: 3] , Iteration: 176/625 , Loss: 0.6608848910440098, Accuracy: 0.6008078835227273\n",
            " 32% 199/625 [00:10<00:22, 19.24it/s][Training - Epoch: 3] , Iteration: 201/625 , Loss: 0.6600799756263619, Accuracy: 0.6002798507462687\n",
            " 36% 225/625 [00:12<00:21, 18.46it/s][Training - Epoch: 3] , Iteration: 226/625 , Loss: 0.6598162730183221, Accuracy: 0.6004563053097345\n",
            " 40% 249/625 [00:13<00:19, 18.93it/s][Training - Epoch: 3] , Iteration: 251/625 , Loss: 0.660122895383265, Accuracy: 0.5997572211155379\n",
            " 44% 275/625 [00:14<00:18, 19.28it/s][Training - Epoch: 3] , Iteration: 276/625 , Loss: 0.6594940236081248, Accuracy: 0.6007982336956522\n",
            " 48% 300/625 [00:16<00:16, 19.24it/s][Training - Epoch: 3] , Iteration: 301/625 , Loss: 0.6583575847933063, Accuracy: 0.602782392026578\n",
            " 52% 324/625 [00:17<00:16, 18.52it/s][Training - Epoch: 3] , Iteration: 326/625 , Loss: 0.6560545547242544, Accuracy: 0.6056844325153374\n",
            " 56% 350/625 [00:18<00:14, 18.86it/s][Training - Epoch: 3] , Iteration: 351/625 , Loss: 0.6561850499563407, Accuracy: 0.6059918091168092\n",
            " 60% 374/625 [00:19<00:13, 19.26it/s][Training - Epoch: 3] , Iteration: 376/625 , Loss: 0.6562802655265686, Accuracy: 0.6058427526595744\n",
            " 64% 400/625 [00:21<00:12, 18.36it/s][Training - Epoch: 3] , Iteration: 401/625 , Loss: 0.6547038352994847, Accuracy: 0.6076995012468828\n",
            " 68% 424/625 [00:22<00:10, 19.02it/s][Training - Epoch: 3] , Iteration: 426/625 , Loss: 0.652782700151345, Accuracy: 0.609943515258216\n",
            " 72% 449/625 [00:23<00:09, 19.29it/s][Training - Epoch: 3] , Iteration: 451/625 , Loss: 0.6514677495226892, Accuracy: 0.6119387472283814\n",
            " 76% 473/625 [00:25<00:08, 18.58it/s][Training - Epoch: 3] , Iteration: 476/625 , Loss: 0.6499930237020765, Accuracy: 0.6135438550420168\n",
            " 80% 500/625 [00:26<00:06, 18.76it/s][Training - Epoch: 3] , Iteration: 501/625 , Loss: 0.6495279264069365, Accuracy: 0.6141778942115769\n",
            " 84% 525/625 [00:27<00:05, 18.87it/s][Training - Epoch: 3] , Iteration: 526/625 , Loss: 0.6483793964630751, Accuracy: 0.615761644486692\n",
            " 88% 548/625 [00:29<00:03, 19.56it/s][Training - Epoch: 3] , Iteration: 551/625 , Loss: 0.6464692674401451, Accuracy: 0.6180240471869328\n",
            " 92% 574/625 [00:30<00:02, 19.24it/s][Training - Epoch: 3] , Iteration: 576/625 , Loss: 0.6461641391118368, Accuracy: 0.6182725694444444\n",
            " 96% 599/625 [00:31<00:01, 18.39it/s][Training - Epoch: 3] , Iteration: 601/625 , Loss: 0.6449583500078236, Accuracy: 0.6195533485856906\n",
            "100% 625/625 [00:33<00:00, 18.89it/s]\n",
            "  0% 0/157 [00:00<?, ?it/s][Validation - Epoch: 3] , Iteration: 1/157 , Loss: 0.6111485362052917, Accuracy: 0.671875\n",
            " 15% 24/157 [00:01<00:06, 22.00it/s][Validation - Epoch: 3] , Iteration: 26/157 , Loss: 0.6217180582193228, Accuracy: 0.6697716346153846\n",
            " 31% 48/157 [00:02<00:04, 22.37it/s][Validation - Epoch: 3] , Iteration: 51/157 , Loss: 0.618903797046811, Accuracy: 0.6708026960784313\n",
            " 48% 75/157 [00:03<00:03, 22.82it/s][Validation - Epoch: 3] , Iteration: 76/157 , Loss: 0.6202622777537296, Accuracy: 0.6683799342105263\n",
            " 63% 99/157 [00:04<00:02, 22.50it/s][Validation - Epoch: 3] , Iteration: 101/157 , Loss: 0.6208614559456853, Accuracy: 0.6697091584158416\n",
            " 78% 123/157 [00:05<00:01, 22.70it/s][Validation - Epoch: 3] , Iteration: 126/157 , Loss: 0.6214458885647002, Accuracy: 0.6701388888888888\n",
            " 96% 150/157 [00:06<00:00, 23.25it/s][Validation - Epoch: 3] , Iteration: 151/157 , Loss: 0.6219110161263421, Accuracy: 0.6683050496688742\n",
            "100% 157/157 [00:07<00:00, 22.41it/s]\n",
            "[Epoch: 3 / 10]\ttrain_loss: 0.6443 \ttrain_acc: 0.6207 \tval_loss: 0.6215 \tval_acc: 0.6689\n",
            "==================================================\n",
            "  0% 0/625 [00:00<?, ?it/s][Training - Epoch: 4] , Iteration: 1/625 , Loss: 0.6262451410293579, Accuracy: 0.6171875\n",
            "  4% 24/625 [00:01<00:31, 18.85it/s][Training - Epoch: 4] , Iteration: 26/625 , Loss: 0.6097261584722079, Accuracy: 0.6544471153846154\n",
            "  8% 50/625 [00:02<00:30, 18.90it/s][Training - Epoch: 4] , Iteration: 51/625 , Loss: 0.6234372269873526, Accuracy: 0.6464460784313726\n",
            " 12% 75/625 [00:03<00:28, 19.37it/s][Training - Epoch: 4] , Iteration: 76/625 , Loss: 0.6191199900288331, Accuracy: 0.6485402960526315\n",
            " 16% 98/625 [00:05<00:27, 18.97it/s][Training - Epoch: 4] , Iteration: 101/625 , Loss: 0.6139055106899526, Accuracy: 0.6560952970297029\n",
            " 20% 125/625 [00:06<00:25, 19.23it/s][Training - Epoch: 4] , Iteration: 126/625 , Loss: 0.6243308881918589, Accuracy: 0.6410590277777778\n",
            " 24% 148/625 [00:07<00:23, 20.02it/s][Training - Epoch: 4] , Iteration: 151/625 , Loss: 0.623989119829721, Accuracy: 0.6433153973509934\n",
            " 28% 174/625 [00:09<00:24, 18.71it/s][Training - Epoch: 4] , Iteration: 176/625 , Loss: 0.6208379830826413, Accuracy: 0.6471502130681818\n",
            " 32% 200/625 [00:10<00:21, 19.39it/s][Training - Epoch: 4] , Iteration: 201/625 , Loss: 0.6235034708953022, Accuracy: 0.6439287935323383\n",
            " 36% 225/625 [00:11<00:21, 18.76it/s][Training - Epoch: 4] , Iteration: 226/625 , Loss: 0.6213199353851049, Accuracy: 0.6469856194690266\n",
            " 40% 249/625 [00:12<00:19, 18.96it/s][Training - Epoch: 4] , Iteration: 251/625 , Loss: 0.6222268768040783, Accuracy: 0.6466010956175299\n",
            " 44% 274/625 [00:14<00:18, 19.25it/s][Training - Epoch: 4] , Iteration: 276/625 , Loss: 0.6205372555532317, Accuracy: 0.6490036231884058\n",
            " 48% 299/625 [00:15<00:17, 18.87it/s][Training - Epoch: 4] , Iteration: 301/625 , Loss: 0.6183634471655685, Accuracy: 0.6515521179401993\n",
            " 52% 324/625 [00:16<00:15, 19.51it/s][Training - Epoch: 4] , Iteration: 326/625 , Loss: 0.6167844102426541, Accuracy: 0.6528709739263804\n",
            " 56% 349/625 [00:18<00:14, 19.41it/s][Training - Epoch: 4] , Iteration: 351/625 , Loss: 0.6141446672613464, Accuracy: 0.6556267806267806\n",
            " 60% 375/625 [00:19<00:13, 18.82it/s][Training - Epoch: 4] , Iteration: 376/625 , Loss: 0.6118706962529649, Accuracy: 0.6572265625\n",
            " 64% 400/625 [00:20<00:11, 19.07it/s][Training - Epoch: 4] , Iteration: 401/625 , Loss: 0.6127696817652543, Accuracy: 0.6561720698254364\n",
            " 68% 424/625 [00:22<00:10, 19.53it/s][Training - Epoch: 4] , Iteration: 426/625 , Loss: 0.6110279075276683, Accuracy: 0.6579555457746479\n",
            " 72% 450/625 [00:23<00:09, 19.33it/s][Training - Epoch: 4] , Iteration: 451/625 , Loss: 0.6098053575619361, Accuracy: 0.659264135254989\n",
            " 76% 475/625 [00:24<00:08, 18.62it/s][Training - Epoch: 4] , Iteration: 476/625 , Loss: 0.607834027532269, Accuracy: 0.6612230829831933\n",
            " 80% 499/625 [00:25<00:06, 19.15it/s][Training - Epoch: 4] , Iteration: 501/625 , Loss: 0.606840481241782, Accuracy: 0.6621600548902196\n",
            " 84% 524/625 [00:27<00:05, 18.35it/s][Training - Epoch: 4] , Iteration: 526/625 , Loss: 0.6055012222931866, Accuracy: 0.6638248574144486\n",
            " 88% 549/625 [00:28<00:03, 19.25it/s][Training - Epoch: 4] , Iteration: 551/625 , Loss: 0.60548144454532, Accuracy: 0.6638214609800362\n",
            " 92% 575/625 [00:29<00:02, 18.61it/s][Training - Epoch: 4] , Iteration: 576/625 , Loss: 0.604674518522289, Accuracy: 0.6645372178819444\n",
            " 96% 600/625 [00:31<00:01, 18.59it/s][Training - Epoch: 4] , Iteration: 601/625 , Loss: 0.6034847471162602, Accuracy: 0.6656224001663894\n",
            "100% 625/625 [00:32<00:00, 20.71it/s]\n",
            "  0% 0/157 [00:00<?, ?it/s][Validation - Epoch: 4] , Iteration: 1/157 , Loss: 0.5749770998954773, Accuracy: 0.671875\n",
            " 15% 23/157 [00:01<00:06, 21.21it/s][Validation - Epoch: 4] , Iteration: 26/157 , Loss: 0.5833327242961297, Accuracy: 0.6871995192307693\n",
            " 32% 50/157 [00:02<00:04, 22.09it/s][Validation - Epoch: 4] , Iteration: 51/157 , Loss: 0.5786669862036612, Accuracy: 0.6902573529411765\n",
            " 47% 74/157 [00:03<00:03, 22.21it/s][Validation - Epoch: 4] , Iteration: 76/157 , Loss: 0.579857296849552, Accuracy: 0.6895559210526315\n",
            " 62% 98/157 [00:04<00:02, 22.64it/s][Validation - Epoch: 4] , Iteration: 101/157 , Loss: 0.5823769368747673, Accuracy: 0.687190594059406\n",
            " 80% 125/157 [00:05<00:01, 21.36it/s][Validation - Epoch: 4] , Iteration: 126/157 , Loss: 0.5826286134265718, Accuracy: 0.6880580357142857\n",
            " 95% 149/157 [00:06<00:00, 22.00it/s][Validation - Epoch: 4] , Iteration: 151/157 , Loss: 0.5834624692304244, Accuracy: 0.687448261589404\n",
            "100% 157/157 [00:07<00:00, 21.89it/s]\n",
            "[Epoch: 4 / 10]\ttrain_loss: 0.6036 \ttrain_acc: 0.6655 \tval_loss: 0.5822 \tval_acc: 0.6892\n",
            "==================================================\n",
            "Decreasing learning rate to 0.005\n",
            "  0% 0/625 [00:00<?, ?it/s][Training - Epoch: 5] , Iteration: 1/625 , Loss: 0.5841289162635803, Accuracy: 0.6953125\n",
            "  4% 25/625 [00:01<00:33, 17.71it/s][Training - Epoch: 5] , Iteration: 26/625 , Loss: 0.5460340105570279, Accuracy: 0.7220552884615384\n",
            "  8% 49/625 [00:02<00:31, 18.30it/s][Training - Epoch: 5] , Iteration: 51/625 , Loss: 0.532370165866964, Accuracy: 0.7334558823529411\n",
            " 12% 75/625 [00:04<00:30, 18.26it/s][Training - Epoch: 5] , Iteration: 76/625 , Loss: 0.5379474343437898, Accuracy: 0.7280016447368421\n",
            " 16% 99/625 [00:05<00:28, 18.46it/s][Training - Epoch: 5] , Iteration: 101/625 , Loss: 0.5363461304419112, Accuracy: 0.7279548267326733\n",
            " 20% 125/625 [00:06<00:26, 18.80it/s][Training - Epoch: 5] , Iteration: 126/625 , Loss: 0.5414291106992297, Accuracy: 0.7232142857142857\n",
            " 24% 149/625 [00:08<00:24, 19.22it/s][Training - Epoch: 5] , Iteration: 151/625 , Loss: 0.54161383004378, Accuracy: 0.7224234271523179\n",
            " 28% 174/625 [00:09<00:24, 18.53it/s][Training - Epoch: 5] , Iteration: 176/625 , Loss: 0.5412847679108381, Accuracy: 0.7234108664772727\n",
            " 32% 199/625 [00:10<00:22, 19.15it/s][Training - Epoch: 5] , Iteration: 201/625 , Loss: 0.5440691349221699, Accuracy: 0.7214707711442786\n",
            " 36% 225/625 [00:12<00:20, 19.47it/s][Training - Epoch: 5] , Iteration: 226/625 , Loss: 0.5447592358146094, Accuracy: 0.7200290376106194\n",
            " 40% 250/625 [00:13<00:19, 19.09it/s][Training - Epoch: 5] , Iteration: 251/625 , Loss: 0.5445784834989038, Accuracy: 0.7195592629482072\n",
            " 44% 275/625 [00:14<00:18, 18.88it/s][Training - Epoch: 5] , Iteration: 276/625 , Loss: 0.5450433176280796, Accuracy: 0.7192312047101449\n",
            " 48% 300/625 [00:16<00:16, 19.58it/s][Training - Epoch: 5] , Iteration: 301/625 , Loss: 0.5439571298634095, Accuracy: 0.7200737126245847\n",
            " 52% 325/625 [00:17<00:15, 19.31it/s][Training - Epoch: 5] , Iteration: 326/625 , Loss: 0.5443943852295905, Accuracy: 0.7195648006134969\n",
            " 56% 349/625 [00:18<00:14, 18.87it/s][Training - Epoch: 5] , Iteration: 351/625 , Loss: 0.5444701869263608, Accuracy: 0.7197293447293447\n",
            " 60% 375/625 [00:20<00:13, 18.95it/s][Training - Epoch: 5] , Iteration: 376/625 , Loss: 0.5442333158818965, Accuracy: 0.7197888962765957\n",
            " 64% 399/625 [00:21<00:11, 18.99it/s][Training - Epoch: 5] , Iteration: 401/625 , Loss: 0.5440353913200169, Accuracy: 0.7196267144638404\n",
            " 68% 424/625 [00:22<00:10, 19.40it/s][Training - Epoch: 5] , Iteration: 426/625 , Loss: 0.5435572465260824, Accuracy: 0.7199603873239436\n",
            " 72% 450/625 [00:23<00:09, 18.53it/s][Training - Epoch: 5] , Iteration: 451/625 , Loss: 0.5429733694260507, Accuracy: 0.7201531319290465\n",
            " 76% 475/625 [00:25<00:07, 19.34it/s][Training - Epoch: 5] , Iteration: 476/625 , Loss: 0.5428850792285775, Accuracy: 0.7200958508403361\n",
            " 80% 499/625 [00:26<00:06, 19.36it/s][Training - Epoch: 5] , Iteration: 501/625 , Loss: 0.5416180531897706, Accuracy: 0.7210890718562875\n",
            " 84% 524/625 [00:27<00:05, 19.56it/s][Training - Epoch: 5] , Iteration: 526/625 , Loss: 0.5419652129420762, Accuracy: 0.7207848146387833\n",
            " 88% 549/625 [00:29<00:04, 18.52it/s][Training - Epoch: 5] , Iteration: 551/625 , Loss: 0.5409849129765956, Accuracy: 0.7213730716878403\n",
            " 92% 574/625 [00:30<00:02, 19.26it/s][Training - Epoch: 5] , Iteration: 576/625 , Loss: 0.5417052876307733, Accuracy: 0.7209608289930556\n",
            " 96% 600/625 [00:31<00:01, 18.85it/s][Training - Epoch: 5] , Iteration: 601/625 , Loss: 0.5409292352576422, Accuracy: 0.7215188227953411\n",
            "100% 625/625 [00:33<00:00, 18.87it/s]\n",
            "  0% 0/157 [00:00<?, ?it/s][Validation - Epoch: 5] , Iteration: 1/157 , Loss: 0.607313871383667, Accuracy: 0.6640625\n",
            " 15% 23/157 [00:01<00:06, 21.47it/s][Validation - Epoch: 5] , Iteration: 26/157 , Loss: 0.6077103339708768, Accuracy: 0.6556490384615384\n",
            " 32% 50/157 [00:02<00:04, 22.49it/s][Validation - Epoch: 5] , Iteration: 51/157 , Loss: 0.6082833865109611, Accuracy: 0.6560968137254902\n",
            " 47% 74/157 [00:03<00:03, 22.67it/s][Validation - Epoch: 5] , Iteration: 76/157 , Loss: 0.6113409290188238, Accuracy: 0.6531661184210527\n",
            " 62% 98/157 [00:04<00:02, 22.95it/s][Validation - Epoch: 5] , Iteration: 101/157 , Loss: 0.6097487388270917, Accuracy: 0.6547029702970297\n",
            " 80% 125/157 [00:05<00:01, 22.74it/s][Validation - Epoch: 5] , Iteration: 126/157 , Loss: 0.6095529671699281, Accuracy: 0.6541418650793651\n",
            " 95% 149/157 [00:06<00:00, 22.89it/s][Validation - Epoch: 5] , Iteration: 151/157 , Loss: 0.610276554199244, Accuracy: 0.6545943708609272\n",
            "100% 157/157 [00:06<00:00, 22.52it/s]\n",
            "[Epoch: 5 / 10]\ttrain_loss: 0.5410 \ttrain_acc: 0.7212 \tval_loss: 0.6093 \tval_acc: 0.6549\n",
            "==================================================\n",
            "  0% 0/625 [00:00<?, ?it/s][Training - Epoch: 6] , Iteration: 1/625 , Loss: 0.6264578104019165, Accuracy: 0.609375\n",
            "  4% 25/625 [00:01<00:32, 18.41it/s][Training - Epoch: 6] , Iteration: 26/625 , Loss: 0.5249372755105679, Accuracy: 0.734375\n",
            "  8% 49/625 [00:02<00:30, 18.72it/s][Training - Epoch: 6] , Iteration: 51/625 , Loss: 0.5166934161793952, Accuracy: 0.7424938725490197\n",
            " 12% 73/625 [00:03<00:29, 18.92it/s][Training - Epoch: 6] , Iteration: 76/625 , Loss: 0.5196076204117975, Accuracy: 0.7373560855263158\n",
            " 16% 100/625 [00:05<00:27, 18.94it/s][Training - Epoch: 6] , Iteration: 101/625 , Loss: 0.5104971404122834, Accuracy: 0.7441986386138614\n",
            " 20% 125/625 [00:06<00:25, 19.33it/s][Training - Epoch: 6] , Iteration: 126/625 , Loss: 0.5157768274583514, Accuracy: 0.7429315476190477\n",
            " 24% 149/625 [00:07<00:24, 19.14it/s][Training - Epoch: 6] , Iteration: 151/625 , Loss: 0.5247471285182119, Accuracy: 0.7349441225165563\n",
            " 28% 175/625 [00:09<00:23, 19.27it/s][Training - Epoch: 6] , Iteration: 176/625 , Loss: 0.5268112073906444, Accuracy: 0.7335759943181818\n",
            " 32% 200/625 [00:10<00:22, 18.66it/s][Training - Epoch: 6] , Iteration: 201/625 , Loss: 0.5251671909099788, Accuracy: 0.7355021766169154\n",
            " 36% 224/625 [00:11<00:20, 19.36it/s][Training - Epoch: 6] , Iteration: 226/625 , Loss: 0.5242712352655631, Accuracy: 0.736241703539823\n",
            " 40% 249/625 [00:13<00:20, 18.79it/s][Training - Epoch: 6] , Iteration: 251/625 , Loss: 0.5239893773874914, Accuracy: 0.736304780876494\n",
            " 44% 275/625 [00:14<00:18, 18.78it/s][Training - Epoch: 6] , Iteration: 276/625 , Loss: 0.5223817194717518, Accuracy: 0.7369508605072463\n",
            " 48% 300/625 [00:15<00:16, 19.15it/s][Training - Epoch: 6] , Iteration: 301/625 , Loss: 0.5204454439621035, Accuracy: 0.7385018687707641\n",
            " 52% 325/625 [00:17<00:15, 19.14it/s][Training - Epoch: 6] , Iteration: 326/625 , Loss: 0.5200558470253565, Accuracy: 0.7390241564417178\n",
            " 56% 349/625 [00:18<00:14, 19.18it/s][Training - Epoch: 6] , Iteration: 351/625 , Loss: 0.5204889629131708, Accuracy: 0.73869301994302\n",
            " 60% 375/625 [00:19<00:13, 18.91it/s][Training - Epoch: 6] , Iteration: 376/625 , Loss: 0.5191654180909725, Accuracy: 0.7400681515957447\n",
            " 64% 399/625 [00:21<00:11, 19.34it/s][Training - Epoch: 6] , Iteration: 401/625 , Loss: 0.5185271444314733, Accuracy: 0.7401418329177057\n",
            " 68% 425/625 [00:22<00:10, 19.23it/s][Training - Epoch: 6] , Iteration: 426/625 , Loss: 0.5200189480759169, Accuracy: 0.7382445715962441\n",
            " 72% 450/625 [00:23<00:09, 19.08it/s][Training - Epoch: 6] , Iteration: 451/625 , Loss: 0.5190412529027647, Accuracy: 0.7388962028824834\n",
            " 76% 475/625 [00:25<00:07, 19.06it/s][Training - Epoch: 6] , Iteration: 476/625 , Loss: 0.519021943587215, Accuracy: 0.7388392857142857\n",
            " 80% 498/625 [00:26<00:06, 19.38it/s][Training - Epoch: 6] , Iteration: 501/625 , Loss: 0.5198414742708682, Accuracy: 0.7376497005988024\n",
            " 84% 525/625 [00:27<00:05, 19.35it/s][Training - Epoch: 6] , Iteration: 526/625 , Loss: 0.5195866476446956, Accuracy: 0.7374940589353612\n",
            " 88% 549/625 [00:28<00:03, 19.21it/s][Training - Epoch: 6] , Iteration: 551/625 , Loss: 0.5197182216034177, Accuracy: 0.7375085072595281\n",
            " 92% 574/625 [00:30<00:02, 19.31it/s][Training - Epoch: 6] , Iteration: 576/625 , Loss: 0.5188642012265822, Accuracy: 0.7380777994791666\n",
            " 96% 599/625 [00:31<00:01, 19.28it/s][Training - Epoch: 6] , Iteration: 601/625 , Loss: 0.5177861109946215, Accuracy: 0.7389637063227953\n",
            "100% 625/625 [00:32<00:00, 19.05it/s]\n",
            "  0% 0/157 [00:00<?, ?it/s][Validation - Epoch: 6] , Iteration: 1/157 , Loss: 0.5816907286643982, Accuracy: 0.703125\n",
            " 16% 25/157 [00:01<00:06, 21.46it/s][Validation - Epoch: 6] , Iteration: 26/157 , Loss: 0.5715343138346305, Accuracy: 0.6902043269230769\n",
            " 31% 49/157 [00:02<00:04, 22.37it/s][Validation - Epoch: 6] , Iteration: 51/157 , Loss: 0.5689748753519619, Accuracy: 0.6956188725490197\n",
            " 46% 73/157 [00:03<00:03, 22.32it/s][Validation - Epoch: 6] , Iteration: 76/157 , Loss: 0.5721454867406895, Accuracy: 0.6929481907894737\n",
            " 64% 100/157 [00:04<00:02, 22.38it/s][Validation - Epoch: 6] , Iteration: 101/157 , Loss: 0.5723710889273351, Accuracy: 0.6953898514851485\n",
            " 79% 124/157 [00:05<00:01, 21.48it/s][Validation - Epoch: 6] , Iteration: 126/157 , Loss: 0.5713095482852724, Accuracy: 0.6976066468253969\n",
            " 94% 148/157 [00:06<00:00, 21.79it/s][Validation - Epoch: 6] , Iteration: 151/157 , Loss: 0.5723559522865623, Accuracy: 0.6967094370860927\n",
            "100% 157/157 [00:07<00:00, 22.02it/s]\n",
            "[Epoch: 6 / 10]\ttrain_loss: 0.5171 \ttrain_acc: 0.7392 \tval_loss: 0.5708 \tval_acc: 0.6982\n",
            "==================================================\n",
            "  0% 0/625 [00:00<?, ?it/s][Training - Epoch: 7] , Iteration: 1/625 , Loss: 0.4970868229866028, Accuracy: 0.75\n",
            "  4% 25/625 [00:01<00:34, 17.54it/s][Training - Epoch: 7] , Iteration: 26/625 , Loss: 0.4738630148080679, Accuracy: 0.7689302884615384\n",
            "  8% 49/625 [00:02<00:32, 17.77it/s][Training - Epoch: 7] , Iteration: 51/625 , Loss: 0.473886850417829, Accuracy: 0.7711397058823529\n",
            " 12% 73/625 [00:04<00:30, 18.08it/s][Training - Epoch: 7] , Iteration: 76/625 , Loss: 0.4754391418475854, Accuracy: 0.7708675986842105\n",
            " 16% 99/625 [00:05<00:28, 18.50it/s][Training - Epoch: 7] , Iteration: 101/625 , Loss: 0.4821443784945082, Accuracy: 0.765625\n",
            " 20% 125/625 [00:06<00:26, 18.79it/s][Training - Epoch: 7] , Iteration: 126/625 , Loss: 0.48595524733028717, Accuracy: 0.7627108134920635\n",
            " 24% 149/625 [00:08<00:25, 18.99it/s][Training - Epoch: 7] , Iteration: 151/625 , Loss: 0.487968113051345, Accuracy: 0.7614859271523179\n",
            " 28% 174/625 [00:09<00:23, 19.20it/s][Training - Epoch: 7] , Iteration: 176/625 , Loss: 0.48630671948194504, Accuracy: 0.7628728693181818\n",
            " 32% 199/625 [00:10<00:22, 19.31it/s][Training - Epoch: 7] , Iteration: 201/625 , Loss: 0.48296491571919836, Accuracy: 0.7652751865671642\n",
            " 36% 225/625 [00:12<00:20, 19.51it/s][Training - Epoch: 7] , Iteration: 226/625 , Loss: 0.4833814427915928, Accuracy: 0.7651756084070797\n",
            " 40% 249/625 [00:13<00:19, 18.97it/s][Training - Epoch: 7] , Iteration: 251/625 , Loss: 0.4851116966678802, Accuracy: 0.7638819721115537\n",
            " 44% 274/625 [00:14<00:17, 19.55it/s][Training - Epoch: 7] , Iteration: 276/625 , Loss: 0.48392428727685544, Accuracy: 0.764266304347826\n",
            " 48% 298/625 [00:15<00:17, 18.60it/s][Training - Epoch: 7] , Iteration: 301/625 , Loss: 0.4859702156429671, Accuracy: 0.7618095930232558\n",
            " 52% 324/625 [00:17<00:16, 18.80it/s][Training - Epoch: 7] , Iteration: 326/625 , Loss: 0.48807341162046775, Accuracy: 0.7601131134969326\n",
            " 56% 349/625 [00:18<00:14, 18.78it/s][Training - Epoch: 7] , Iteration: 351/625 , Loss: 0.489333960490349, Accuracy: 0.7595486111111112\n",
            " 60% 375/625 [00:19<00:12, 19.57it/s][Training - Epoch: 7] , Iteration: 376/625 , Loss: 0.4906448335089582, Accuracy: 0.7588721742021277\n",
            " 64% 399/625 [00:21<00:11, 19.18it/s][Training - Epoch: 7] , Iteration: 401/625 , Loss: 0.49013662650400863, Accuracy: 0.7592931733167082\n",
            " 68% 424/625 [00:22<00:10, 19.03it/s][Training - Epoch: 7] , Iteration: 426/625 , Loss: 0.49091971116446553, Accuracy: 0.7587661384976526\n",
            " 72% 449/625 [00:23<00:09, 19.24it/s][Training - Epoch: 7] , Iteration: 451/625 , Loss: 0.4906551327118588, Accuracy: 0.7590943736141907\n",
            " 76% 475/625 [00:25<00:07, 18.81it/s][Training - Epoch: 7] , Iteration: 476/625 , Loss: 0.4902081176513383, Accuracy: 0.7592896533613446\n",
            " 80% 499/625 [00:26<00:06, 19.06it/s][Training - Epoch: 7] , Iteration: 501/625 , Loss: 0.48843983886484615, Accuracy: 0.7605102295409182\n",
            " 84% 524/625 [00:27<00:05, 19.04it/s][Training - Epoch: 7] , Iteration: 526/625 , Loss: 0.48851358216298396, Accuracy: 0.7605008317490495\n",
            " 88% 549/625 [00:29<00:03, 19.04it/s][Training - Epoch: 7] , Iteration: 551/625 , Loss: 0.48895308997367126, Accuracy: 0.7601094600725953\n",
            " 92% 574/625 [00:30<00:02, 19.20it/s][Training - Epoch: 7] , Iteration: 576/625 , Loss: 0.48858027739657295, Accuracy: 0.7603217230902778\n",
            " 96% 599/625 [00:31<00:01, 18.53it/s][Training - Epoch: 7] , Iteration: 601/625 , Loss: 0.4881162242762459, Accuracy: 0.7604643302828619\n",
            "100% 625/625 [00:33<00:00, 18.94it/s]\n",
            "  0% 0/157 [00:00<?, ?it/s][Validation - Epoch: 7] , Iteration: 1/157 , Loss: 0.6062831878662109, Accuracy: 0.703125\n",
            " 16% 25/157 [00:01<00:06, 21.70it/s][Validation - Epoch: 7] , Iteration: 26/157 , Loss: 0.5699510517028662, Accuracy: 0.7130408653846154\n",
            " 31% 49/157 [00:02<00:04, 22.19it/s][Validation - Epoch: 7] , Iteration: 51/157 , Loss: 0.5633341202548906, Accuracy: 0.7162990196078431\n",
            " 46% 73/157 [00:03<00:03, 22.76it/s][Validation - Epoch: 7] , Iteration: 76/157 , Loss: 0.5668027095104519, Accuracy: 0.7130962171052632\n",
            " 64% 100/157 [00:04<00:02, 22.48it/s][Validation - Epoch: 7] , Iteration: 101/157 , Loss: 0.5700128574182491, Accuracy: 0.7144183168316832\n",
            " 79% 124/157 [00:05<00:01, 22.51it/s][Validation - Epoch: 7] , Iteration: 126/157 , Loss: 0.5687697217577979, Accuracy: 0.7145957341269841\n",
            " 94% 148/157 [00:06<00:00, 23.19it/s][Validation - Epoch: 7] , Iteration: 151/157 , Loss: 0.5713983979446209, Accuracy: 0.7124896523178808\n",
            "100% 157/157 [00:06<00:00, 22.47it/s]\n",
            "[Epoch: 7 / 10]\ttrain_loss: 0.4876 \ttrain_acc: 0.7612 \tval_loss: 0.5696 \tval_acc: 0.7142\n",
            "==================================================\n",
            "Decreasing learning rate to 0.0025\n",
            "  0% 0/625 [00:00<?, ?it/s][Training - Epoch: 8] , Iteration: 1/625 , Loss: 0.3483547270298004, Accuracy: 0.859375\n",
            "  4% 24/625 [00:01<00:32, 18.35it/s][Training - Epoch: 8] , Iteration: 26/625 , Loss: 0.429776206612587, Accuracy: 0.7980769230769231\n",
            "  8% 48/625 [00:02<00:31, 18.46it/s][Training - Epoch: 8] , Iteration: 51/625 , Loss: 0.42626677774915506, Accuracy: 0.8007046568627451\n",
            " 12% 75/625 [00:04<00:29, 18.52it/s][Training - Epoch: 8] , Iteration: 76/625 , Loss: 0.42662204762822703, Accuracy: 0.8004728618421053\n",
            " 16% 98/625 [00:05<00:27, 19.43it/s][Training - Epoch: 8] , Iteration: 101/625 , Loss: 0.419146462832347, Accuracy: 0.8048422029702971\n",
            " 20% 125/625 [00:06<00:26, 18.53it/s][Training - Epoch: 8] , Iteration: 126/625 , Loss: 0.4194207610118957, Accuracy: 0.8059275793650794\n",
            " 24% 150/625 [00:08<00:24, 19.38it/s][Training - Epoch: 8] , Iteration: 151/625 , Loss: 0.422832317304927, Accuracy: 0.804584023178808\n",
            " 28% 175/625 [00:09<00:23, 19.23it/s][Training - Epoch: 8] , Iteration: 176/625 , Loss: 0.42637489024888386, Accuracy: 0.8020241477272727\n",
            " 32% 200/625 [00:10<00:21, 19.58it/s][Training - Epoch: 8] , Iteration: 201/625 , Loss: 0.42400545385939564, Accuracy: 0.8039101368159204\n",
            " 36% 225/625 [00:11<00:21, 19.00it/s][Training - Epoch: 8] , Iteration: 226/625 , Loss: 0.4220051003240906, Accuracy: 0.804514657079646\n",
            " 40% 250/625 [00:13<00:19, 19.13it/s][Training - Epoch: 8] , Iteration: 251/625 , Loss: 0.41910714813437594, Accuracy: 0.8063060258964143\n",
            " 44% 274/625 [00:14<00:18, 19.41it/s][Training - Epoch: 8] , Iteration: 276/625 , Loss: 0.4162474756223568, Accuracy: 0.8084805253623188\n",
            " 48% 299/625 [00:15<00:16, 19.30it/s][Training - Epoch: 8] , Iteration: 301/625 , Loss: 0.41574177848936317, Accuracy: 0.8088922342192691\n",
            " 52% 324/625 [00:17<00:16, 18.56it/s][Training - Epoch: 8] , Iteration: 326/625 , Loss: 0.41483393741165936, Accuracy: 0.8093366564417178\n",
            " 56% 350/625 [00:18<00:14, 19.58it/s][Training - Epoch: 8] , Iteration: 351/625 , Loss: 0.41422762252666334, Accuracy: 0.8096509971509972\n",
            " 60% 375/625 [00:19<00:12, 19.40it/s][Training - Epoch: 8] , Iteration: 376/625 , Loss: 0.4145688111002141, Accuracy: 0.8094872007978723\n",
            " 64% 400/625 [00:21<00:12, 18.74it/s][Training - Epoch: 8] , Iteration: 401/625 , Loss: 0.4136365885449169, Accuracy: 0.8097724438902744\n",
            " 68% 425/625 [00:22<00:10, 19.20it/s][Training - Epoch: 8] , Iteration: 426/625 , Loss: 0.41458842745968993, Accuracy: 0.8091072476525821\n",
            " 72% 449/625 [00:23<00:09, 19.43it/s][Training - Epoch: 8] , Iteration: 451/625 , Loss: 0.41418555147631997, Accuracy: 0.8089488636363636\n",
            " 76% 474/625 [00:24<00:07, 19.53it/s][Training - Epoch: 8] , Iteration: 476/625 , Loss: 0.41350141511995253, Accuracy: 0.8091189600840336\n",
            " 80% 500/625 [00:26<00:06, 19.09it/s][Training - Epoch: 8] , Iteration: 501/625 , Loss: 0.4143977276460377, Accuracy: 0.8084456087824351\n",
            " 84% 525/625 [00:27<00:05, 19.24it/s][Training - Epoch: 8] , Iteration: 526/625 , Loss: 0.41454099996914884, Accuracy: 0.8086383079847909\n",
            " 88% 550/625 [00:28<00:03, 19.40it/s][Training - Epoch: 8] , Iteration: 551/625 , Loss: 0.4142683213289334, Accuracy: 0.8087993421052632\n",
            " 92% 575/625 [00:30<00:02, 18.95it/s][Training - Epoch: 8] , Iteration: 576/625 , Loss: 0.41429570622535217, Accuracy: 0.8086480034722222\n",
            " 96% 600/625 [00:31<00:01, 19.53it/s][Training - Epoch: 8] , Iteration: 601/625 , Loss: 0.4153518502704316, Accuracy: 0.8081712770382695\n",
            "100% 625/625 [00:32<00:00, 19.09it/s]\n",
            "  0% 0/157 [00:00<?, ?it/s][Validation - Epoch: 8] , Iteration: 1/157 , Loss: 0.5953797698020935, Accuracy: 0.6953125\n",
            " 15% 23/157 [00:01<00:06, 21.53it/s][Validation - Epoch: 8] , Iteration: 26/157 , Loss: 0.5852717539438834, Accuracy: 0.7136418269230769\n",
            " 32% 50/157 [00:02<00:04, 22.42it/s][Validation - Epoch: 8] , Iteration: 51/157 , Loss: 0.5791490089659598, Accuracy: 0.7126225490196079\n",
            " 47% 74/157 [00:03<00:03, 22.83it/s][Validation - Epoch: 8] , Iteration: 76/157 , Loss: 0.5810597005643343, Accuracy: 0.7122738486842105\n",
            " 62% 98/157 [00:04<00:02, 22.79it/s][Validation - Epoch: 8] , Iteration: 101/157 , Loss: 0.5867251570862119, Accuracy: 0.7124071782178217\n",
            " 80% 125/157 [00:05<00:01, 21.61it/s][Validation - Epoch: 8] , Iteration: 126/157 , Loss: 0.585739475867105, Accuracy: 0.7147197420634921\n",
            " 95% 149/157 [00:06<00:00, 21.96it/s][Validation - Epoch: 8] , Iteration: 151/157 , Loss: 0.5892289460494818, Accuracy: 0.7124379139072847\n",
            "100% 157/157 [00:07<00:00, 22.06it/s]\n",
            "[Epoch: 8 / 10]\ttrain_loss: 0.4156 \ttrain_acc: 0.8080 \tval_loss: 0.5873 \tval_acc: 0.7136\n",
            "==================================================\n",
            "  0% 0/625 [00:00<?, ?it/s][Training - Epoch: 9] , Iteration: 1/625 , Loss: 0.3208581805229187, Accuracy: 0.8828125\n",
            "  4% 25/625 [00:01<00:34, 17.60it/s][Training - Epoch: 9] , Iteration: 26/625 , Loss: 0.36010811305963075, Accuracy: 0.8383413461538461\n",
            "  8% 49/625 [00:02<00:31, 18.07it/s][Training - Epoch: 9] , Iteration: 51/625 , Loss: 0.35001755666499046, Accuracy: 0.8471200980392157\n",
            " 12% 75/625 [00:04<00:29, 18.49it/s][Training - Epoch: 9] , Iteration: 76/625 , Loss: 0.35651142601119845, Accuracy: 0.8412828947368421\n",
            " 16% 99/625 [00:05<00:28, 18.57it/s][Training - Epoch: 9] , Iteration: 101/625 , Loss: 0.35740756767221016, Accuracy: 0.8405785891089109\n",
            " 20% 124/625 [00:06<00:26, 18.91it/s][Training - Epoch: 9] , Iteration: 126/625 , Loss: 0.35728417750861907, Accuracy: 0.8406498015873016\n",
            " 24% 148/625 [00:08<00:25, 18.91it/s][Training - Epoch: 9] , Iteration: 151/625 , Loss: 0.3553360364097633, Accuracy: 0.8424565397350994\n",
            " 28% 175/625 [00:09<00:23, 18.94it/s][Training - Epoch: 9] , Iteration: 176/625 , Loss: 0.3594122062521902, Accuracy: 0.84033203125\n",
            " 32% 199/625 [00:10<00:21, 19.44it/s][Training - Epoch: 9] , Iteration: 201/625 , Loss: 0.3654904935638703, Accuracy: 0.8362873134328358\n",
            " 36% 225/625 [00:12<00:20, 19.50it/s][Training - Epoch: 9] , Iteration: 226/625 , Loss: 0.3659434900742716, Accuracy: 0.8361794800884956\n",
            " 40% 249/625 [00:13<00:19, 19.27it/s][Training - Epoch: 9] , Iteration: 251/625 , Loss: 0.36734598453538825, Accuracy: 0.8367467629482072\n",
            " 44% 274/625 [00:14<00:18, 19.02it/s][Training - Epoch: 9] , Iteration: 276/625 , Loss: 0.36835031044008076, Accuracy: 0.8363903985507246\n",
            " 48% 300/625 [00:15<00:16, 19.73it/s][Training - Epoch: 9] , Iteration: 301/625 , Loss: 0.3682433822721342, Accuracy: 0.8366901993355482\n",
            " 52% 324/625 [00:17<00:15, 19.23it/s][Training - Epoch: 9] , Iteration: 326/625 , Loss: 0.36722019474747725, Accuracy: 0.8363209355828221\n",
            " 56% 348/625 [00:18<00:14, 18.94it/s][Training - Epoch: 9] , Iteration: 351/625 , Loss: 0.3689546042103373, Accuracy: 0.8352697649572649\n",
            " 60% 375/625 [00:19<00:12, 19.47it/s][Training - Epoch: 9] , Iteration: 376/625 , Loss: 0.3695518588052785, Accuracy: 0.8349193816489362\n",
            " 64% 399/625 [00:21<00:11, 19.05it/s][Training - Epoch: 9] , Iteration: 401/625 , Loss: 0.3706478656007167, Accuracy: 0.8347490648379052\n",
            " 68% 424/625 [00:22<00:10, 18.99it/s][Training - Epoch: 9] , Iteration: 426/625 , Loss: 0.37203975396117134, Accuracy: 0.833975205399061\n",
            " 72% 449/625 [00:23<00:09, 18.86it/s][Training - Epoch: 9] , Iteration: 451/625 , Loss: 0.3708762941167518, Accuracy: 0.8343264966740577\n",
            " 76% 474/625 [00:25<00:07, 19.59it/s][Training - Epoch: 9] , Iteration: 476/625 , Loss: 0.3715882412463176, Accuracy: 0.833656118697479\n",
            " 80% 498/625 [00:26<00:06, 19.34it/s][Training - Epoch: 9] , Iteration: 501/625 , Loss: 0.37216930644597834, Accuracy: 0.833816741516966\n",
            " 84% 525/625 [00:27<00:05, 18.84it/s][Training - Epoch: 9] , Iteration: 526/625 , Loss: 0.3730723120470464, Accuracy: 0.8332194629277566\n",
            " 88% 549/625 [00:28<00:03, 19.22it/s][Training - Epoch: 9] , Iteration: 551/625 , Loss: 0.3758587230625689, Accuracy: 0.8308189655172413\n",
            " 92% 573/625 [00:30<00:02, 18.96it/s][Training - Epoch: 9] , Iteration: 576/625 , Loss: 0.3761040827311162, Accuracy: 0.8307969835069444\n",
            " 96% 599/625 [00:31<00:01, 19.11it/s][Training - Epoch: 9] , Iteration: 601/625 , Loss: 0.3768533064353089, Accuracy: 0.8300488768718802\n",
            "100% 625/625 [00:32<00:00, 19.01it/s]\n",
            "  0% 0/157 [00:00<?, ?it/s][Validation - Epoch: 9] , Iteration: 1/157 , Loss: 0.6935802102088928, Accuracy: 0.7265625\n",
            " 15% 23/157 [00:01<00:06, 21.13it/s][Validation - Epoch: 9] , Iteration: 26/157 , Loss: 0.7315321748073285, Accuracy: 0.6887019230769231\n",
            " 32% 50/157 [00:02<00:04, 22.43it/s][Validation - Epoch: 9] , Iteration: 51/157 , Loss: 0.7071048120657603, Accuracy: 0.6979166666666666\n",
            " 47% 74/157 [00:03<00:03, 22.63it/s][Validation - Epoch: 9] , Iteration: 76/157 , Loss: 0.7088617827547224, Accuracy: 0.6958264802631579\n",
            " 62% 98/157 [00:04<00:02, 22.95it/s][Validation - Epoch: 9] , Iteration: 101/157 , Loss: 0.7243518944423978, Accuracy: 0.6899752475247525\n",
            " 80% 125/157 [00:05<00:01, 22.05it/s][Validation - Epoch: 9] , Iteration: 126/157 , Loss: 0.7242612434285027, Accuracy: 0.69140625\n",
            " 95% 149/157 [00:06<00:00, 22.71it/s][Validation - Epoch: 9] , Iteration: 151/157 , Loss: 0.7262573342844351, Accuracy: 0.6909664735099338\n",
            "100% 157/157 [00:06<00:00, 22.47it/s]\n",
            "[Epoch: 9 / 10]\ttrain_loss: 0.3773 \ttrain_acc: 0.8299 \tval_loss: 0.7233 \tval_acc: 0.6920\n",
            "==================================================\n",
            "  0% 0/625 [00:00<?, ?it/s][Training - Epoch: 10] , Iteration: 1/625 , Loss: 0.38190457224845886, Accuracy: 0.8671875\n",
            "  4% 25/625 [00:01<00:31, 18.97it/s][Training - Epoch: 10] , Iteration: 26/625 , Loss: 0.30745910280025923, Accuracy: 0.8783052884615384\n",
            "  8% 49/625 [00:02<00:31, 18.54it/s][Training - Epoch: 10] , Iteration: 51/625 , Loss: 0.318080423801553, Accuracy: 0.8667279411764706\n",
            " 12% 75/625 [00:04<00:28, 19.39it/s][Training - Epoch: 10] , Iteration: 76/625 , Loss: 0.30638576122490985, Accuracy: 0.8731496710526315\n",
            " 16% 99/625 [00:05<00:27, 19.03it/s][Training - Epoch: 10] , Iteration: 101/625 , Loss: 0.313143459729629, Accuracy: 0.8689665841584159\n",
            " 20% 125/625 [00:06<00:26, 19.23it/s][Training - Epoch: 10] , Iteration: 126/625 , Loss: 0.32331271717945737, Accuracy: 0.8616071428571429\n",
            " 24% 150/625 [00:07<00:24, 19.12it/s][Training - Epoch: 10] , Iteration: 151/625 , Loss: 0.3235895292253684, Accuracy: 0.8612893211920529\n",
            " 28% 175/625 [00:09<00:23, 19.38it/s][Training - Epoch: 10] , Iteration: 176/625 , Loss: 0.3239757806401361, Accuracy: 0.8611505681818182\n",
            " 32% 200/625 [00:10<00:22, 18.97it/s][Training - Epoch: 10] , Iteration: 201/625 , Loss: 0.3247680412744408, Accuracy: 0.8606965174129353\n",
            " 36% 224/625 [00:11<00:21, 19.09it/s][Training - Epoch: 10] , Iteration: 226/625 , Loss: 0.3273393695728969, Accuracy: 0.8594787057522124\n",
            " 40% 249/625 [00:13<00:19, 19.20it/s][Training - Epoch: 10] , Iteration: 251/625 , Loss: 0.3270252742971557, Accuracy: 0.860433266932271\n",
            " 44% 274/625 [00:14<00:18, 19.25it/s][Training - Epoch: 10] , Iteration: 276/625 , Loss: 0.3276279414801494, Accuracy: 0.8598562047101449\n",
            " 48% 300/625 [00:15<00:17, 18.82it/s][Training - Epoch: 10] , Iteration: 301/625 , Loss: 0.32747337469626897, Accuracy: 0.8595826411960132\n",
            " 52% 325/625 [00:17<00:15, 18.89it/s][Training - Epoch: 10] , Iteration: 326/625 , Loss: 0.3289324043352911, Accuracy: 0.8586320935582822\n",
            " 56% 350/625 [00:18<00:14, 19.03it/s][Training - Epoch: 10] , Iteration: 351/625 , Loss: 0.3304674239919396, Accuracy: 0.8573495370370371\n",
            " 60% 375/625 [00:19<00:13, 18.99it/s][Training - Epoch: 10] , Iteration: 376/625 , Loss: 0.330638689325845, Accuracy: 0.8568608710106383\n",
            " 64% 399/625 [00:20<00:12, 18.77it/s][Training - Epoch: 10] , Iteration: 401/625 , Loss: 0.33041034278429654, Accuracy: 0.8566279613466334\n",
            " 68% 424/625 [00:22<00:10, 18.99it/s][Training - Epoch: 10] , Iteration: 426/625 , Loss: 0.3316656259443838, Accuracy: 0.8557071596244131\n",
            " 72% 450/625 [00:23<00:09, 19.05it/s][Training - Epoch: 10] , Iteration: 451/625 , Loss: 0.3343160190101209, Accuracy: 0.8544034090909091\n",
            " 76% 475/625 [00:24<00:08, 18.69it/s][Training - Epoch: 10] , Iteration: 476/625 , Loss: 0.335415664089828, Accuracy: 0.8541885504201681\n",
            " 80% 500/625 [00:26<00:06, 19.29it/s][Training - Epoch: 10] , Iteration: 501/625 , Loss: 0.3347314672912666, Accuracy: 0.8545097305389222\n",
            " 84% 524/625 [00:27<00:05, 18.79it/s][Training - Epoch: 10] , Iteration: 526/625 , Loss: 0.3358677996485406, Accuracy: 0.8538943678707225\n",
            " 88% 549/625 [00:28<00:04, 18.92it/s][Training - Epoch: 10] , Iteration: 551/625 , Loss: 0.3361302578243716, Accuracy: 0.8537743874773139\n",
            " 92% 575/625 [00:30<00:02, 18.90it/s][Training - Epoch: 10] , Iteration: 576/625 , Loss: 0.3365039705661022, Accuracy: 0.8536512586805556\n",
            " 96% 600/625 [00:31<00:01, 18.94it/s][Training - Epoch: 10] , Iteration: 601/625 , Loss: 0.33709658518706304, Accuracy: 0.8532523918469218\n",
            "100% 625/625 [00:32<00:00, 19.09it/s]\n",
            "  0% 0/157 [00:00<?, ?it/s][Validation - Epoch: 10] , Iteration: 1/157 , Loss: 0.6921548843383789, Accuracy: 0.6875\n",
            " 16% 25/157 [00:01<00:06, 21.69it/s][Validation - Epoch: 10] , Iteration: 26/157 , Loss: 0.7518833531783178, Accuracy: 0.6974158653846154\n",
            " 31% 49/157 [00:02<00:04, 22.40it/s][Validation - Epoch: 10] , Iteration: 51/157 , Loss: 0.7252353453168682, Accuracy: 0.7046568627450981\n",
            " 46% 73/157 [00:03<00:03, 22.14it/s][Validation - Epoch: 10] , Iteration: 76/157 , Loss: 0.728361217599166, Accuracy: 0.7026110197368421\n",
            " 64% 100/157 [00:04<00:02, 21.90it/s][Validation - Epoch: 10] , Iteration: 101/157 , Loss: 0.738097097614024, Accuracy: 0.6998762376237624\n",
            " 79% 124/157 [00:05<00:01, 21.30it/s][Validation - Epoch: 10] , Iteration: 126/157 , Loss: 0.7410709498420595, Accuracy: 0.7003968253968254\n",
            " 94% 148/157 [00:06<00:00, 21.91it/s][Validation - Epoch: 10] , Iteration: 151/157 , Loss: 0.7453711672334482, Accuracy: 0.6993998344370861\n",
            "100% 157/157 [00:07<00:00, 21.69it/s]\n",
            "[Epoch: 10 / 10]\ttrain_loss: 0.3376 \ttrain_acc: 0.8529 \tval_loss: 0.7428 \tval_acc: 0.7008\n",
            "==================================================\n",
            "Decreasing learning rate to 0.00125\n"
          ],
          "name": "stdout"
        }
      ]
    },
    {
      "metadata": {
        "id": "cC7kahFAFBOS",
        "colab_type": "code",
        "colab": {
          "base_uri": "https://localhost:8080/",
          "height": 51
        },
        "outputId": "50f6547a-b8e4-49f8-dca9-7a1e870c949f"
      },
      "cell_type": "code",
      "source": [
        "!unzip train.csv.zip"
      ],
      "execution_count": 17,
      "outputs": [
        {
          "output_type": "stream",
          "text": [
            "Archive:  train.csv.zip\n",
            "  inflating: train.csv               \n"
          ],
          "name": "stdout"
        }
      ]
    },
    {
      "metadata": {
        "id": "zohrCOGIIRqC",
        "colab_type": "code",
        "colab": {
          "base_uri": "https://localhost:8080/",
          "height": 51
        },
        "outputId": "95859d60-7823-4227-ed30-cef911731889"
      },
      "cell_type": "code",
      "source": [
        "!python predict.py --model=\"./models/char_cnn_epoch_None_6_0.0025_loss_0.5696_acc_0.7142.pth\" --text=\"You're the only one who can see this cause no one else is following me this is for you because you're pretty awesome and i am happy\" --max_length=150 --extra_characters=\"\""
      ],
      "execution_count": 27,
      "outputs": [
        {
          "output_type": "stream",
          "text": [
            "input : You're the only one who can see this cause no one else is following me this is for you because you're pretty awesome and i am happy\n",
            "prediction : tensor([[0.2836, 0.7164]], device='cuda:0', grad_fn=<SoftmaxBackward>)\n"
          ],
          "name": "stdout"
        }
      ]
    },
    {
      "metadata": {
        "id": "0gjYbvPMJU2L",
        "colab_type": "code",
        "colab": {
          "base_uri": "https://localhost:8080/",
          "height": 51
        },
        "outputId": "cba0f2f3-7b67-4576-a901-49ef6f19bb6a"
      },
      "cell_type": "code",
      "source": [
        "!python predict.py --model=\"./models/char_cnn_epoch_None_6_0.0025_loss_0.5696_acc_0.7142.pth\" --text=\"You're the only one who can see this cause no one else is following me this is for you because you're pretty awesome and iam sad\" --max_length=150 --extra_characters=\"\""
      ],
      "execution_count": 29,
      "outputs": [
        {
          "output_type": "stream",
          "text": [
            "input : You're the only one who can see this cause no one else is following me this is for you because you're pretty awesome and iam sad\n",
            "prediction : tensor([[0.4870, 0.5130]], device='cuda:0', grad_fn=<SoftmaxBackward>)\n"
          ],
          "name": "stdout"
        }
      ]
    },
    {
      "metadata": {
        "id": "lRXLSznLNguY",
        "colab_type": "code",
        "colab": {
          "base_uri": "https://localhost:8080/",
          "height": 51
        },
        "outputId": "1628cd2b-4969-4471-bc26-ece95d1eb5fa"
      },
      "cell_type": "code",
      "source": [
        "!python predict.py --model=\"./models/char_cnn_epoch_None_6_0.0025_loss_0.5696_acc_0.7142.pth\" --text=\"You're the only one who can see this cause no one else is following me this is for you because you're pretty awesome\" --max_length=150 --extra_characters=\"\""
      ],
      "execution_count": 30,
      "outputs": [
        {
          "output_type": "stream",
          "text": [
            "input : You're the only one who can see this cause no one else is following me this is for you because you're pretty awesome\n",
            "prediction : tensor([[0.2926, 0.7074]], device='cuda:0', grad_fn=<SoftmaxBackward>)\n"
          ],
          "name": "stdout"
        }
      ]
    },
    {
      "metadata": {
        "id": "Mc02WSIpNol9",
        "colab_type": "code",
        "colab": {
          "base_uri": "https://localhost:8080/",
          "height": 51
        },
        "outputId": "d008c66f-eda0-4949-ee42-306007e20125"
      },
      "cell_type": "code",
      "source": [
        "!python predict.py --model=\"./models/char_cnn_epoch_None_6_0.0025_loss_0.5696_acc_0.7142.pth\" --text=\"happy happy happy happy\" --max_length=150 --extra_characters=\"\""
      ],
      "execution_count": 34,
      "outputs": [
        {
          "output_type": "stream",
          "text": [
            "input : happy happy happy happy\n",
            "prediction : tensor([[0.0074, 0.9926]], device='cuda:0', grad_fn=<SoftmaxBackward>)\n"
          ],
          "name": "stdout"
        }
      ]
    }
  ]
}